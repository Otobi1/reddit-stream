{
 "cells": [
  {
   "metadata": {
    "ExecuteTime": {
     "end_time": "2025-02-04T13:31:26.290223Z",
     "start_time": "2025-02-04T13:31:21.628610Z"
    }
   },
   "cell_type": "code",
   "source": "!pip install praw kafka-python python-dotenv",
   "id": "a8e5090e384c3f34",
   "outputs": [
    {
     "name": "stdout",
     "output_type": "stream",
     "text": [
      "Requirement already satisfied: praw in ./redenv/lib/python3.11/site-packages (7.8.1)\r\n",
      "Requirement already satisfied: kafka-python in ./redenv/lib/python3.11/site-packages (2.0.2)\r\n",
      "Requirement already satisfied: python-dotenv in ./redenv/lib/python3.11/site-packages (1.0.1)\r\n",
      "Requirement already satisfied: prawcore<3,>=2.4 in ./redenv/lib/python3.11/site-packages (from praw) (2.4.0)\r\n",
      "Requirement already satisfied: update_checker>=0.18 in ./redenv/lib/python3.11/site-packages (from praw) (0.18.0)\r\n",
      "Requirement already satisfied: websocket-client>=0.54.0 in ./redenv/lib/python3.11/site-packages (from praw) (1.8.0)\r\n",
      "Requirement already satisfied: requests<3.0,>=2.6.0 in ./redenv/lib/python3.11/site-packages (from prawcore<3,>=2.4->praw) (2.32.3)\r\n",
      "Requirement already satisfied: charset-normalizer<4,>=2 in ./redenv/lib/python3.11/site-packages (from requests<3.0,>=2.6.0->prawcore<3,>=2.4->praw) (3.4.1)\r\n",
      "Requirement already satisfied: idna<4,>=2.5 in ./redenv/lib/python3.11/site-packages (from requests<3.0,>=2.6.0->prawcore<3,>=2.4->praw) (3.10)\r\n",
      "Requirement already satisfied: urllib3<3,>=1.21.1 in ./redenv/lib/python3.11/site-packages (from requests<3.0,>=2.6.0->prawcore<3,>=2.4->praw) (2.3.0)\r\n",
      "Requirement already satisfied: certifi>=2017.4.17 in ./redenv/lib/python3.11/site-packages (from requests<3.0,>=2.6.0->prawcore<3,>=2.4->praw) (2024.12.14)\r\n",
      "\r\n",
      "\u001B[1m[\u001B[0m\u001B[34;49mnotice\u001B[0m\u001B[1;39;49m]\u001B[0m\u001B[39;49m A new release of pip is available: \u001B[0m\u001B[31;49m23.2.1\u001B[0m\u001B[39;49m -> \u001B[0m\u001B[32;49m25.0\u001B[0m\r\n",
      "\u001B[1m[\u001B[0m\u001B[34;49mnotice\u001B[0m\u001B[1;39;49m]\u001B[0m\u001B[39;49m To update, run: \u001B[0m\u001B[32;49mpip install --upgrade pip\u001B[0m\r\n"
     ]
    }
   ],
   "execution_count": 1
  },
  {
   "cell_type": "code",
   "id": "initial_id",
   "metadata": {
    "collapsed": true,
    "ExecuteTime": {
     "end_time": "2025-02-04T13:37:26.133564Z",
     "start_time": "2025-02-04T13:37:25.960843Z"
    }
   },
   "source": [
    "import os\n",
    "import time\n",
    "import json\n",
    "import praw\n",
    "from kafka import KafkaProducer\n",
    "from kafka.errors import NoBrokersAvailable\n",
    "from dotenv import load_dotenv"
   ],
   "outputs": [],
   "execution_count": 2
  },
  {
   "metadata": {
    "ExecuteTime": {
     "end_time": "2025-02-04T13:37:28.503311Z",
     "start_time": "2025-02-04T13:37:28.498647Z"
    }
   },
   "cell_type": "code",
   "source": [
    "load_dotenv()  # loads .env in current dir\n",
    "\n",
    "REDDIT_CLIENT_ID = os.getenv('REDDIT_CLIENT_ID')\n",
    "REDDIT_CLIENT_SECRET = os.getenv('REDDIT_CLIENT_SECRET')\n",
    "REDDIT_USER_AGENT = os.getenv('REDDIT_USER_AGENT')\n",
    "KAFKA_BROKER = os.getenv('KAFKA_BROKER')\n",
    "TOPIC_NAME = os.getenv('TOPIC_NAME')"
   ],
   "id": "cb3e0328f70a6a73",
   "outputs": [],
   "execution_count": 3
  },
  {
   "metadata": {
    "ExecuteTime": {
     "end_time": "2025-02-04T13:37:30.639340Z",
     "start_time": "2025-02-04T13:37:30.636152Z"
    }
   },
   "cell_type": "code",
   "source": [
    "def create_reddit_instance():\n",
    "    reddit = praw.Reddit(\n",
    "        client_id=REDDIT_CLIENT_ID,\n",
    "        client_secret=REDDIT_CLIENT_SECRET,\n",
    "        user_agent=REDDIT_USER_AGENT\n",
    "    )\n",
    "    return reddit"
   ],
   "id": "ea0841cc36a6812b",
   "outputs": [],
   "execution_count": 4
  },
  {
   "metadata": {
    "ExecuteTime": {
     "end_time": "2025-02-04T13:37:32.420169Z",
     "start_time": "2025-02-04T13:37:32.415540Z"
    }
   },
   "cell_type": "code",
   "source": [
    "def create_kafka_producer():\n",
    "    \"\"\"Try to connect to Kafka, retry up to 5 times.\"\"\"\n",
    "    retries = 5\n",
    "    while retries > 0:\n",
    "        try:\n",
    "            producer = KafkaProducer(\n",
    "                bootstrap_servers=[KAFKA_BROKER],\n",
    "                value_serializer=lambda v: json.dumps(v).encode('utf-8')\n",
    "            )\n",
    "            print(\"Connected to Kafka!\")\n",
    "            return producer\n",
    "        except NoBrokersAvailable:\n",
    "            print(f\"Kafka broker not found. Retries left: {retries}\")\n",
    "            retries -= 1\n",
    "            time.sleep(5)\n",
    "    raise RuntimeError(\"Failed to connect to Kafka after retries\")\n"
   ],
   "id": "522d6edc6cd41213",
   "outputs": [],
   "execution_count": 5
  },
  {
   "metadata": {
    "ExecuteTime": {
     "end_time": "2025-02-04T13:38:01.262696Z",
     "start_time": "2025-02-04T13:37:35.838221Z"
    }
   },
   "cell_type": "code",
   "source": [
    "reddit = create_reddit_instance()\n",
    "producer = create_kafka_producer()"
   ],
   "id": "fece0889e33668c9",
   "outputs": [
    {
     "name": "stdout",
     "output_type": "stream",
     "text": [
      "Kafka broker not found. Retries left: 5\n",
      "Kafka broker not found. Retries left: 4\n",
      "Kafka broker not found. Retries left: 3\n",
      "Kafka broker not found. Retries left: 2\n",
      "Kafka broker not found. Retries left: 1\n"
     ]
    },
    {
     "ename": "RuntimeError",
     "evalue": "Failed to connect to Kafka after retries",
     "output_type": "error",
     "traceback": [
      "\u001B[0;31m---------------------------------------------------------------------------\u001B[0m",
      "\u001B[0;31mRuntimeError\u001B[0m                              Traceback (most recent call last)",
      "Cell \u001B[0;32mIn[6], line 2\u001B[0m\n\u001B[1;32m      1\u001B[0m reddit \u001B[38;5;241m=\u001B[39m create_reddit_instance()\n\u001B[0;32m----> 2\u001B[0m producer \u001B[38;5;241m=\u001B[39m \u001B[43mcreate_kafka_producer\u001B[49m\u001B[43m(\u001B[49m\u001B[43m)\u001B[49m\n",
      "Cell \u001B[0;32mIn[5], line 16\u001B[0m, in \u001B[0;36mcreate_kafka_producer\u001B[0;34m()\u001B[0m\n\u001B[1;32m     14\u001B[0m         retries \u001B[38;5;241m-\u001B[39m\u001B[38;5;241m=\u001B[39m \u001B[38;5;241m1\u001B[39m\n\u001B[1;32m     15\u001B[0m         time\u001B[38;5;241m.\u001B[39msleep(\u001B[38;5;241m5\u001B[39m)\n\u001B[0;32m---> 16\u001B[0m \u001B[38;5;28;01mraise\u001B[39;00m \u001B[38;5;167;01mRuntimeError\u001B[39;00m(\u001B[38;5;124m\"\u001B[39m\u001B[38;5;124mFailed to connect to Kafka after retries\u001B[39m\u001B[38;5;124m\"\u001B[39m)\n",
      "\u001B[0;31mRuntimeError\u001B[0m: Failed to connect to Kafka after retries"
     ]
    }
   ],
   "execution_count": 6
  },
  {
   "metadata": {
    "ExecuteTime": {
     "end_time": "2025-02-04T13:38:08.715279Z",
     "start_time": "2025-02-04T13:38:07.433011Z"
    }
   },
   "cell_type": "code",
   "source": [
    "subreddits = [\"technology\", \"programming\", \"datascience\", \"MachineLearning\"]\n",
    "\n",
    "posts_data = []  # will store the posts\n",
    "\n",
    "for subreddit in subreddits:\n",
    "    print(f\"Fetching r/{subreddit}...\")\n",
    "    for submission in reddit.subreddit(subreddit).new(limit=5):\n",
    "        data = {\n",
    "            \"id\": submission.id,\n",
    "            \"subreddit\": subreddit,\n",
    "            \"title\": submission.title,\n",
    "            \"selftext\": submission.selftext,\n",
    "            \"created_utc\": submission.created_utc\n",
    "        }\n",
    "        posts_data.append(data)\n",
    "\n",
    "print(f\"Fetched {len(posts_data)} posts total.\")"
   ],
   "id": "a67bbe9865871178",
   "outputs": [
    {
     "name": "stdout",
     "output_type": "stream",
     "text": [
      "Fetching r/technology...\n",
      "Fetching r/programming...\n",
      "Fetching r/datascience...\n",
      "Fetching r/MachineLearning...\n",
      "Fetched 20 posts total.\n"
     ]
    }
   ],
   "execution_count": 7
  },
  {
   "metadata": {
    "ExecuteTime": {
     "end_time": "2025-02-04T13:38:41.602683Z",
     "start_time": "2025-02-04T13:38:31.816629Z"
    }
   },
   "cell_type": "code",
   "source": "!pip install pandas --quiet",
   "id": "6b2df146af933b92",
   "outputs": [
    {
     "name": "stdout",
     "output_type": "stream",
     "text": [
      "\r\n",
      "\u001B[1m[\u001B[0m\u001B[34;49mnotice\u001B[0m\u001B[1;39;49m]\u001B[0m\u001B[39;49m A new release of pip is available: \u001B[0m\u001B[31;49m23.2.1\u001B[0m\u001B[39;49m -> \u001B[0m\u001B[32;49m25.0\u001B[0m\r\n",
      "\u001B[1m[\u001B[0m\u001B[34;49mnotice\u001B[0m\u001B[1;39;49m]\u001B[0m\u001B[39;49m To update, run: \u001B[0m\u001B[32;49mpip install --upgrade pip\u001B[0m\r\n"
     ]
    }
   ],
   "execution_count": 9
  },
  {
   "metadata": {
    "ExecuteTime": {
     "end_time": "2025-02-04T13:38:57.438219Z",
     "start_time": "2025-02-04T13:38:44.854079Z"
    }
   },
   "cell_type": "code",
   "source": [
    "import pandas as pd\n",
    "\n",
    "df = pd.DataFrame(posts_data)\n",
    "df.head(10)\n"
   ],
   "id": "85501854e1315d36",
   "outputs": [
    {
     "data": {
      "text/plain": [
       "        id    subreddit                                              title  \\\n",
       "0  1ihhtan   technology  This scrappy search upstart is getting thousan...   \n",
       "1  1ihhpje   technology  Trump orders USDA to take down websites refere...   \n",
       "2  1ihhm06   technology  Australia bans DeepSeek on government devices ...   \n",
       "3  1ihhcup   technology  70% of leaders admit they are comfortable usin...   \n",
       "4  1ihh7yg   technology  Treyarch co-founder pleads guilty to drone col...   \n",
       "5  1ihhqds  programming  Search logs faster than Sonic - Log search eng...   \n",
       "6  1ihgwli  programming  10 Lesser Known Options of Popular Linux Commands   \n",
       "7  1ihfro7  programming  What should semantic diffs highlight: The chan...   \n",
       "8  1ihfnhk  programming  Problem with concept of AI Agent and a convers...   \n",
       "9  1ihfjcd  programming                  It's OK to hardcode feature flags   \n",
       "\n",
       "                                            selftext   created_utc  \n",
       "0                                                     1.738676e+09  \n",
       "1                                                     1.738676e+09  \n",
       "2                                                     1.738676e+09  \n",
       "3                                                     1.738675e+09  \n",
       "4                                                     1.738674e+09  \n",
       "5  Learn about the data structures and algorithms...  1.738676e+09  \n",
       "6                                                     1.738673e+09  \n",
       "7                                                     1.738669e+09  \n",
       "8                                                     1.738669e+09  \n",
       "9                                                     1.738668e+09  "
      ],
      "text/html": [
       "<div>\n",
       "<style scoped>\n",
       "    .dataframe tbody tr th:only-of-type {\n",
       "        vertical-align: middle;\n",
       "    }\n",
       "\n",
       "    .dataframe tbody tr th {\n",
       "        vertical-align: top;\n",
       "    }\n",
       "\n",
       "    .dataframe thead th {\n",
       "        text-align: right;\n",
       "    }\n",
       "</style>\n",
       "<table border=\"1\" class=\"dataframe\">\n",
       "  <thead>\n",
       "    <tr style=\"text-align: right;\">\n",
       "      <th></th>\n",
       "      <th>id</th>\n",
       "      <th>subreddit</th>\n",
       "      <th>title</th>\n",
       "      <th>selftext</th>\n",
       "      <th>created_utc</th>\n",
       "    </tr>\n",
       "  </thead>\n",
       "  <tbody>\n",
       "    <tr>\n",
       "      <th>0</th>\n",
       "      <td>1ihhtan</td>\n",
       "      <td>technology</td>\n",
       "      <td>This scrappy search upstart is getting thousan...</td>\n",
       "      <td></td>\n",
       "      <td>1.738676e+09</td>\n",
       "    </tr>\n",
       "    <tr>\n",
       "      <th>1</th>\n",
       "      <td>1ihhpje</td>\n",
       "      <td>technology</td>\n",
       "      <td>Trump orders USDA to take down websites refere...</td>\n",
       "      <td></td>\n",
       "      <td>1.738676e+09</td>\n",
       "    </tr>\n",
       "    <tr>\n",
       "      <th>2</th>\n",
       "      <td>1ihhm06</td>\n",
       "      <td>technology</td>\n",
       "      <td>Australia bans DeepSeek on government devices ...</td>\n",
       "      <td></td>\n",
       "      <td>1.738676e+09</td>\n",
       "    </tr>\n",
       "    <tr>\n",
       "      <th>3</th>\n",
       "      <td>1ihhcup</td>\n",
       "      <td>technology</td>\n",
       "      <td>70% of leaders admit they are comfortable usin...</td>\n",
       "      <td></td>\n",
       "      <td>1.738675e+09</td>\n",
       "    </tr>\n",
       "    <tr>\n",
       "      <th>4</th>\n",
       "      <td>1ihh7yg</td>\n",
       "      <td>technology</td>\n",
       "      <td>Treyarch co-founder pleads guilty to drone col...</td>\n",
       "      <td></td>\n",
       "      <td>1.738674e+09</td>\n",
       "    </tr>\n",
       "    <tr>\n",
       "      <th>5</th>\n",
       "      <td>1ihhqds</td>\n",
       "      <td>programming</td>\n",
       "      <td>Search logs faster than Sonic - Log search eng...</td>\n",
       "      <td>Learn about the data structures and algorithms...</td>\n",
       "      <td>1.738676e+09</td>\n",
       "    </tr>\n",
       "    <tr>\n",
       "      <th>6</th>\n",
       "      <td>1ihgwli</td>\n",
       "      <td>programming</td>\n",
       "      <td>10 Lesser Known Options of Popular Linux Commands</td>\n",
       "      <td></td>\n",
       "      <td>1.738673e+09</td>\n",
       "    </tr>\n",
       "    <tr>\n",
       "      <th>7</th>\n",
       "      <td>1ihfro7</td>\n",
       "      <td>programming</td>\n",
       "      <td>What should semantic diffs highlight: The chan...</td>\n",
       "      <td></td>\n",
       "      <td>1.738669e+09</td>\n",
       "    </tr>\n",
       "    <tr>\n",
       "      <th>8</th>\n",
       "      <td>1ihfnhk</td>\n",
       "      <td>programming</td>\n",
       "      <td>Problem with concept of AI Agent and a convers...</td>\n",
       "      <td></td>\n",
       "      <td>1.738669e+09</td>\n",
       "    </tr>\n",
       "    <tr>\n",
       "      <th>9</th>\n",
       "      <td>1ihfjcd</td>\n",
       "      <td>programming</td>\n",
       "      <td>It's OK to hardcode feature flags</td>\n",
       "      <td></td>\n",
       "      <td>1.738668e+09</td>\n",
       "    </tr>\n",
       "  </tbody>\n",
       "</table>\n",
       "</div>"
      ]
     },
     "execution_count": 10,
     "metadata": {},
     "output_type": "execute_result"
    }
   ],
   "execution_count": 10
  }
 ],
 "metadata": {
  "kernelspec": {
   "display_name": "Python 3",
   "language": "python",
   "name": "python3"
  },
  "language_info": {
   "codemirror_mode": {
    "name": "ipython",
    "version": 2
   },
   "file_extension": ".py",
   "mimetype": "text/x-python",
   "name": "python",
   "nbconvert_exporter": "python",
   "pygments_lexer": "ipython2",
   "version": "2.7.6"
  }
 },
 "nbformat": 4,
 "nbformat_minor": 5
}
